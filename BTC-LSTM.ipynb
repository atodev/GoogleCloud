{
  "nbformat": 4,
  "nbformat_minor": 0,
  "metadata": {
    "colab": {
      "name": "Untitled1.ipynb",
      "provenance": [],
      "authorship_tag": "ABX9TyNW04PfElZHfiaDB7r9aS6K",
      "include_colab_link": true
    },
    "kernelspec": {
      "name": "python3",
      "display_name": "Python 3"
    },
    "language_info": {
      "name": "python"
    }
  },
  "cells": [
    {
      "cell_type": "markdown",
      "metadata": {
        "id": "view-in-github",
        "colab_type": "text"
      },
      "source": [
        "<a href=\"https://colab.research.google.com/github/atodev/GoogleCloud/blob/master/BTC-LSTM.ipynb\" target=\"_parent\"><img src=\"https://colab.research.google.com/assets/colab-badge.svg\" alt=\"Open In Colab\"/></a>"
      ]
    },
    {
      "cell_type": "code",
      "metadata": {
        "id": "shIvlpHp5kMP"
      },
      "source": [
        "#Description: This program uses an artificial recurrent neural network called Long Short Term Memory(LSTM)\n",
        "#to predict the closing stock price of a corporation (apple Inc.) using the past 60 day stock price."
      ],
      "execution_count": null,
      "outputs": []
    },
    {
      "cell_type": "code",
      "metadata": {
        "id": "vD1_iZ7pK7C-"
      },
      "source": [
        "import math\n",
        "import pandas_datareader as web\n",
        "import numpy as np\n",
        "import pandas as pd \n",
        "from sklearn.preprocessing import MinMaxScaler\n",
        "from keras.models import Sequential\n",
        "from keras.layers import Dense,LSTM\n",
        "#from tensorflow.keras.layers import  Dense, LSTM\n",
        "import matplotlib.pyplot as plt\n",
        "plt.style.use('fivethirtyeight')"
      ],
      "execution_count": 1,
      "outputs": []
    },
    {
      "cell_type": "code",
      "metadata": {
        "id": "adjXBKs7LViE",
        "colab": {
          "base_uri": "https://localhost:8080/",
          "height": 446
        },
        "outputId": "f970f8a0-d559-49b1-e82a-6e20aeb6fc97"
      },
      "source": [
        "#Get the stock quote\n",
        "df = web.DataReader('BTC-USD', data_source='yahoo',start='2015-01-01', end = '2020-12-30')\n",
        "#Show the data\n",
        "df"
      ],
      "execution_count": 2,
      "outputs": [
        {
          "output_type": "execute_result",
          "data": {
            "text/html": [
              "<div>\n",
              "<style scoped>\n",
              "    .dataframe tbody tr th:only-of-type {\n",
              "        vertical-align: middle;\n",
              "    }\n",
              "\n",
              "    .dataframe tbody tr th {\n",
              "        vertical-align: top;\n",
              "    }\n",
              "\n",
              "    .dataframe thead th {\n",
              "        text-align: right;\n",
              "    }\n",
              "</style>\n",
              "<table border=\"1\" class=\"dataframe\">\n",
              "  <thead>\n",
              "    <tr style=\"text-align: right;\">\n",
              "      <th></th>\n",
              "      <th>High</th>\n",
              "      <th>Low</th>\n",
              "      <th>Open</th>\n",
              "      <th>Close</th>\n",
              "      <th>Volume</th>\n",
              "      <th>Adj Close</th>\n",
              "    </tr>\n",
              "    <tr>\n",
              "      <th>Date</th>\n",
              "      <th></th>\n",
              "      <th></th>\n",
              "      <th></th>\n",
              "      <th></th>\n",
              "      <th></th>\n",
              "      <th></th>\n",
              "    </tr>\n",
              "  </thead>\n",
              "  <tbody>\n",
              "    <tr>\n",
              "      <th>2015-01-01</th>\n",
              "      <td>320.434998</td>\n",
              "      <td>314.002991</td>\n",
              "      <td>320.434998</td>\n",
              "      <td>314.248993</td>\n",
              "      <td>8.036550e+06</td>\n",
              "      <td>314.248993</td>\n",
              "    </tr>\n",
              "    <tr>\n",
              "      <th>2015-01-02</th>\n",
              "      <td>315.838989</td>\n",
              "      <td>313.565002</td>\n",
              "      <td>314.079010</td>\n",
              "      <td>315.032013</td>\n",
              "      <td>7.860650e+06</td>\n",
              "      <td>315.032013</td>\n",
              "    </tr>\n",
              "    <tr>\n",
              "      <th>2015-01-03</th>\n",
              "      <td>315.149994</td>\n",
              "      <td>281.082001</td>\n",
              "      <td>314.846008</td>\n",
              "      <td>281.082001</td>\n",
              "      <td>3.305440e+07</td>\n",
              "      <td>281.082001</td>\n",
              "    </tr>\n",
              "    <tr>\n",
              "      <th>2015-01-04</th>\n",
              "      <td>287.230011</td>\n",
              "      <td>257.612000</td>\n",
              "      <td>281.145996</td>\n",
              "      <td>264.195007</td>\n",
              "      <td>5.562910e+07</td>\n",
              "      <td>264.195007</td>\n",
              "    </tr>\n",
              "    <tr>\n",
              "      <th>2015-01-05</th>\n",
              "      <td>278.341003</td>\n",
              "      <td>265.084015</td>\n",
              "      <td>265.084015</td>\n",
              "      <td>274.473999</td>\n",
              "      <td>4.396280e+07</td>\n",
              "      <td>274.473999</td>\n",
              "    </tr>\n",
              "    <tr>\n",
              "      <th>...</th>\n",
              "      <td>...</td>\n",
              "      <td>...</td>\n",
              "      <td>...</td>\n",
              "      <td>...</td>\n",
              "      <td>...</td>\n",
              "      <td>...</td>\n",
              "    </tr>\n",
              "    <tr>\n",
              "      <th>2020-12-27</th>\n",
              "      <td>28288.839844</td>\n",
              "      <td>25922.769531</td>\n",
              "      <td>26439.373047</td>\n",
              "      <td>26272.294922</td>\n",
              "      <td>6.647990e+10</td>\n",
              "      <td>26272.294922</td>\n",
              "    </tr>\n",
              "    <tr>\n",
              "      <th>2020-12-28</th>\n",
              "      <td>27389.111328</td>\n",
              "      <td>26207.640625</td>\n",
              "      <td>26280.822266</td>\n",
              "      <td>27084.808594</td>\n",
              "      <td>4.905674e+10</td>\n",
              "      <td>27084.808594</td>\n",
              "    </tr>\n",
              "    <tr>\n",
              "      <th>2020-12-29</th>\n",
              "      <td>27370.720703</td>\n",
              "      <td>25987.298828</td>\n",
              "      <td>27081.810547</td>\n",
              "      <td>27362.437500</td>\n",
              "      <td>4.526595e+10</td>\n",
              "      <td>27362.437500</td>\n",
              "    </tr>\n",
              "    <tr>\n",
              "      <th>2020-12-30</th>\n",
              "      <td>28937.740234</td>\n",
              "      <td>27360.089844</td>\n",
              "      <td>27360.089844</td>\n",
              "      <td>28840.953125</td>\n",
              "      <td>5.128744e+10</td>\n",
              "      <td>28840.953125</td>\n",
              "    </tr>\n",
              "    <tr>\n",
              "      <th>2020-12-31</th>\n",
              "      <td>29244.876953</td>\n",
              "      <td>28201.992188</td>\n",
              "      <td>28841.574219</td>\n",
              "      <td>29001.720703</td>\n",
              "      <td>4.675496e+10</td>\n",
              "      <td>29001.720703</td>\n",
              "    </tr>\n",
              "  </tbody>\n",
              "</table>\n",
              "<p>2188 rows × 6 columns</p>\n",
              "</div>"
            ],
            "text/plain": [
              "                    High           Low  ...        Volume     Adj Close\n",
              "Date                                    ...                            \n",
              "2015-01-01    320.434998    314.002991  ...  8.036550e+06    314.248993\n",
              "2015-01-02    315.838989    313.565002  ...  7.860650e+06    315.032013\n",
              "2015-01-03    315.149994    281.082001  ...  3.305440e+07    281.082001\n",
              "2015-01-04    287.230011    257.612000  ...  5.562910e+07    264.195007\n",
              "2015-01-05    278.341003    265.084015  ...  4.396280e+07    274.473999\n",
              "...                  ...           ...  ...           ...           ...\n",
              "2020-12-27  28288.839844  25922.769531  ...  6.647990e+10  26272.294922\n",
              "2020-12-28  27389.111328  26207.640625  ...  4.905674e+10  27084.808594\n",
              "2020-12-29  27370.720703  25987.298828  ...  4.526595e+10  27362.437500\n",
              "2020-12-30  28937.740234  27360.089844  ...  5.128744e+10  28840.953125\n",
              "2020-12-31  29244.876953  28201.992188  ...  4.675496e+10  29001.720703\n",
              "\n",
              "[2188 rows x 6 columns]"
            ]
          },
          "metadata": {
            "tags": []
          },
          "execution_count": 2
        }
      ]
    },
    {
      "cell_type": "code",
      "metadata": {
        "colab": {
          "base_uri": "https://localhost:8080/",
          "height": 518
        },
        "id": "RCcMg_R1aZkW",
        "outputId": "ab0b55b0-a27e-40e3-8aee-9e219771b1db"
      },
      "source": [
        "#visualiz the closing price history\n",
        "plt.figure(figsize=(16,8))\n",
        "plt.title('Closing Price History')\n",
        "plt.plot(df['Close'])\n",
        "plt.xlabel('Date',fontsize=18)\n",
        "plt.ylabel('Close Price USD ($)',fontsize=18)\n",
        "plt.show()"
      ],
      "execution_count": 3,
      "outputs": [
        {
          "output_type": "display_data",
          "data": {
            "image/png": "[encoded data removed]",
            "text/plain": [
              "<Figure size 1152x576 with 1 Axes>"
            ]
          },
          "metadata": {
            "tags": [],
            "needs_background": "light"
          }
        }
      ]
    },
    {
      "cell_type": "code",
      "metadata": {
        "colab": {
          "base_uri": "https://localhost:8080/"
        },
        "id": "vffHUU7Yadhc",
        "outputId": "c3afef34-fea7-4012-c180-293244c89140"
      },
      "source": [
        "# create a new dataframe with only the close col\n",
        "data = df.filter(['Close'])\n",
        "#convert the dataframe to a numpy array\n",
        "dataset = data.values\n",
        "#get the number of rows top train the model\n",
        "training_data_len = math.ceil(len(dataset) * .8)\n",
        "training_data_len"
      ],
      "execution_count": 4,
      "outputs": [
        {
          "output_type": "execute_result",
          "data": {
            "text/plain": [
              "1751"
            ]
          },
          "metadata": {
            "tags": []
          },
          "execution_count": 4
        }
      ]
    },
    {
      "cell_type": "code",
      "metadata": {
        "colab": {
          "base_uri": "https://localhost:8080/"
        },
        "id": "uHtJ6-7faglD",
        "outputId": "fe8ca32c-e85b-4c12-88d0-9cab27c3129b"
      },
      "source": [
        "#scale the data\n",
        "scaler = MinMaxScaler(feature_range=(0,1))\n",
        "scaled_data = scaler.fit_transform(dataset)\n",
        "scaled_data"
      ],
      "execution_count": 5,
      "outputs": [
        {
          "output_type": "execute_result",
          "data": {
            "text/plain": [
              "array([[0.00472342],\n",
              "       [0.00475058],\n",
              "       [0.00357273],\n",
              "       ...,\n",
              "       [0.94312708],\n",
              "       [0.99442237],\n",
              "       [1.        ]])"
            ]
          },
          "metadata": {
            "tags": []
          },
          "execution_count": 5
        }
      ]
    },
    {
      "cell_type": "code",
      "metadata": {
        "colab": {
          "base_uri": "https://localhost:8080/"
        },
        "id": "f7Y7zVzFajND",
        "outputId": "04e3d00f-3867-4816-e12d-a84a94f57f14"
      },
      "source": [
        "#Create the training dataset\n",
        "#Create the scaled training dataset\n",
        "train_data = scaled_data[0:training_data_len ,:]\n",
        "#split the dfata into x_train and y_train datasets\n",
        "x_train = []\n",
        "y_train = []\n",
        "\n",
        "for i in range(60, len(train_data)):\n",
        "    x_train.append(train_data[i-60:i,0])\n",
        "    y_train.append(train_data[i,0])\n",
        "    if i <=61:\n",
        "        print (x_train)\n",
        "        print(y_train)\n",
        "        print()"
      ],
      "execution_count": 6,
      "outputs": [
        {
          "output_type": "stream",
          "text": [
            "[array([0.00472342, 0.00475058, 0.00357273, 0.00298686, 0.00334347,\n",
            "       0.00374991, 0.0040326 , 0.00365138, 0.00389628, 0.00335464,\n",
            "       0.00303768, 0.00311179, 0.0016569 , 0.        , 0.00110121,\n",
            "       0.00104061, 0.00073402, 0.00111839, 0.00127527, 0.00115225,\n",
            "       0.00169285, 0.00191867, 0.00190039, 0.00241968, 0.00262337,\n",
            "       0.00330874, 0.00296188, 0.00193633, 0.00192238, 0.00167647,\n",
            "       0.00136558, 0.00169545, 0.002086  , 0.00170572, 0.00169132,\n",
            "       0.00135333, 0.00153218, 0.00172258, 0.00157194, 0.00145738,\n",
            "       0.00144798, 0.00142529, 0.00151477, 0.00198879, 0.00274837,\n",
            "       0.0019679 , 0.00193383, 0.00227269, 0.00201998, 0.00215726,\n",
            "       0.00227855, 0.00230474, 0.00200787, 0.002109  , 0.00210355,\n",
            "       0.00205967, 0.00202344, 0.00262719, 0.00264228, 0.00284832])]\n",
            "[0.0033849677578897796]\n",
            "\n",
            "[array([0.00472342, 0.00475058, 0.00357273, 0.00298686, 0.00334347,\n",
            "       0.00374991, 0.0040326 , 0.00365138, 0.00389628, 0.00335464,\n",
            "       0.00303768, 0.00311179, 0.0016569 , 0.        , 0.00110121,\n",
            "       0.00104061, 0.00073402, 0.00111839, 0.00127527, 0.00115225,\n",
            "       0.00169285, 0.00191867, 0.00190039, 0.00241968, 0.00262337,\n",
            "       0.00330874, 0.00296188, 0.00193633, 0.00192238, 0.00167647,\n",
            "       0.00136558, 0.00169545, 0.002086  , 0.00170572, 0.00169132,\n",
            "       0.00135333, 0.00153218, 0.00172258, 0.00157194, 0.00145738,\n",
            "       0.00144798, 0.00142529, 0.00151477, 0.00198879, 0.00274837,\n",
            "       0.0019679 , 0.00193383, 0.00227269, 0.00201998, 0.00215726,\n",
            "       0.00227855, 0.00230474, 0.00200787, 0.002109  , 0.00210355,\n",
            "       0.00205967, 0.00202344, 0.00262719, 0.00264228, 0.00284832]), array([0.00475058, 0.00357273, 0.00298686, 0.00334347, 0.00374991,\n",
            "       0.0040326 , 0.00365138, 0.00389628, 0.00335464, 0.00303768,\n",
            "       0.00311179, 0.0016569 , 0.        , 0.00110121, 0.00104061,\n",
            "       0.00073402, 0.00111839, 0.00127527, 0.00115225, 0.00169285,\n",
            "       0.00191867, 0.00190039, 0.00241968, 0.00262337, 0.00330874,\n",
            "       0.00296188, 0.00193633, 0.00192238, 0.00167647, 0.00136558,\n",
            "       0.00169545, 0.002086  , 0.00170572, 0.00169132, 0.00135333,\n",
            "       0.00153218, 0.00172258, 0.00157194, 0.00145738, 0.00144798,\n",
            "       0.00142529, 0.00151477, 0.00198879, 0.00274837, 0.0019679 ,\n",
            "       0.00193383, 0.00227269, 0.00201998, 0.00215726, 0.00227855,\n",
            "       0.00230474, 0.00200787, 0.002109  , 0.00210355, 0.00205967,\n",
            "       0.00202344, 0.00262719, 0.00264228, 0.00284832, 0.00338497])]\n",
            "[0.0033849677578897796, 0.0035942399763648682]\n",
            "\n"
          ],
          "name": "stdout"
        }
      ]
    },
    {
      "cell_type": "code",
      "metadata": {
        "id": "Za4eR_5FamEF"
      },
      "source": [
        "#convert the x_train and y_train to numpy arrays\n",
        "x_train, y_train = np.array(x_train), np.array(y_train)"
      ],
      "execution_count": 7,
      "outputs": []
    },
    {
      "cell_type": "code",
      "metadata": {
        "colab": {
          "base_uri": "https://localhost:8080/"
        },
        "id": "Gx8ifI05apJs",
        "outputId": "43401f9b-98b8-4924-f086-efb759a4063b"
      },
      "source": [
        "#reshape the data - LSTM epect 3 dim\n",
        "x_train = np.reshape(x_train,(x_train.shape[0],x_train.shape[1],1))\n",
        "x_train.shape\n"
      ],
      "execution_count": 8,
      "outputs": [
        {
          "output_type": "execute_result",
          "data": {
            "text/plain": [
              "(1691, 60, 1)"
            ]
          },
          "metadata": {
            "tags": []
          },
          "execution_count": 8
        }
      ]
    },
    {
      "cell_type": "code",
      "metadata": {
        "id": "cXTdnZWzarei"
      },
      "source": [
        "#build the LSTM model\n",
        "#from tensorflow.python.framework import tensor_util\n",
        "model = Sequential()\n",
        "model.add(LSTM(50, return_sequences=True, input_shape= (x_train.shape[1], 1)))\n",
        "model.add(LSTM(50, return_sequences=False))\n",
        "model.add(Dense(25))\n",
        "model.add(Dense(1))"
      ],
      "execution_count": 9,
      "outputs": []
    },
    {
      "cell_type": "code",
      "metadata": {
        "id": "XnOf-ynTatrS"
      },
      "source": [
        "#compile the model\n",
        "model.compile(optimizer='adam',loss='mean_squared_error')"
      ],
      "execution_count": 10,
      "outputs": []
    },
    {
      "cell_type": "code",
      "metadata": {
        "colab": {
          "base_uri": "https://localhost:8080/"
        },
        "id": "Kvc3wawJaxSC",
        "outputId": "0ca6a336-e80d-4054-d8c8-dac8e4e2b746"
      },
      "source": [
        "#train the model\n",
        "model.fit(x_train,y_train,batch_size=1,epochs=1)"
      ],
      "execution_count": 11,
      "outputs": [
        {
          "output_type": "stream",
          "text": [
            "1691/1691 [==============================] - 68s 28ms/step - loss: 0.0016\n"
          ],
          "name": "stdout"
        },
        {
          "output_type": "execute_result",
          "data": {
            "text/plain": [
              "<keras.callbacks.History at 0x7f84861c7210>"
            ]
          },
          "metadata": {
            "tags": []
          },
          "execution_count": 11
        }
      ]
    },
    {
      "cell_type": "code",
      "metadata": {
        "id": "LjlzJ5BNazuC"
      },
      "source": [
        "#create the testing dataset\n",
        "#Create a new array containing scaled values from index \n",
        "test_data = scaled_data[training_data_len -60: , :]\n",
        "#create the data sets x_test and y_test\n",
        "x_test = []\n",
        "y_test = dataset[training_data_len:, :]\n",
        "for i in range(60,len(test_data)):\n",
        "  x_test.append(test_data[i-60:i,0])\n"
      ],
      "execution_count": 12,
      "outputs": []
    },
    {
      "cell_type": "code",
      "metadata": {
        "id": "lGuEO3I_dTWq"
      },
      "source": [
        "#convert the data to a numpy array\n",
        "x_test = np.array(x_test)"
      ],
      "execution_count": 13,
      "outputs": []
    },
    {
      "cell_type": "code",
      "metadata": {
        "id": "e_P6upokdhRY"
      },
      "source": [
        "x_test = np.reshape(x_test,(x_test.shape[0],x_test.shape[1],1))"
      ],
      "execution_count": 15,
      "outputs": []
    },
    {
      "cell_type": "code",
      "metadata": {
        "id": "IJW4kXOHdy0D"
      },
      "source": [
        "#Get the models predicted price values\n",
        "predictions = model.predict(x_test)\n",
        "predictions = scaler.inverse_transform(predictions)"
      ],
      "execution_count": 18,
      "outputs": []
    },
    {
      "cell_type": "code",
      "metadata": {
        "colab": {
          "base_uri": "https://localhost:8080/"
        },
        "id": "ZR-R4v6wd-3Z",
        "outputId": "a4c6c19f-fb31-437f-fcde-8182903441f4"
      },
      "source": [
        "#Get the root mean squared error (RMSE)\n",
        "rmse =np.sqrt(np.mean(predictions - y_test)**2)\n",
        "rmse"
      ],
      "execution_count": 19,
      "outputs": [
        {
          "output_type": "execute_result",
          "data": {
            "text/plain": [
              "160.3121357444222"
            ]
          },
          "metadata": {
            "tags": []
          },
          "execution_count": 19
        }
      ]
    },
    {
      "cell_type": "code",
      "metadata": {
        "colab": {
          "base_uri": "https://localhost:8080/",
          "height": 622
        },
        "id": "VwYhYbw7fZCI",
        "outputId": "382cbb1b-cf57-4de1-eca8-74213c77d4f0"
      },
      "source": [
        "#plot the data\n",
        "train = data[:training_data_len]\n",
        "valid = data[training_data_len:]\n",
        "valid['Predictions']=predictions\n",
        "#visualize the data\n",
        "plt.figure(figsize=(16,8))\n",
        "plt.title('Model')\n",
        "plt.xlabel('Date',fontsize=18)\n",
        "plt.ylabel('Close Price USD ($)',fontsize=18)\n",
        "plt.plot(train['Close'])\n",
        "plt.plot(valid[['Close','Predictions']])\n",
        "plt.legend(['Train','Val','Predictions'], loc = 'lower right')\n",
        "plt.show()\n",
        "\n"
      ],
      "execution_count": 25,
      "outputs": [
        {
          "output_type": "stream",
          "text": [
            "/usr/local/lib/python3.7/dist-packages/ipykernel_launcher.py:4: SettingWithCopyWarning: \n",
            "A value is trying to be set on a copy of a slice from a DataFrame.\n",
            "Try using .loc[row_indexer,col_indexer] = value instead\n",
            "\n",
            "See the caveats in the documentation: https://pandas.pydata.org/pandas-docs/stable/user_guide/indexing.html#returning-a-view-versus-a-copy\n",
            "  after removing the cwd from sys.path.\n"
          ],
          "name": "stderr"
        },
        {
          "output_type": "display_data",
          "data": {
            "image/png": "[encoded data removed]",
            "text/plain": [
              "<Figure size 1152x576 with 1 Axes>"
            ]
          },
          "metadata": {
            "tags": [],
            "needs_background": "light"
          }
        }
      ]
    },
    {
      "cell_type": "code",
      "metadata": {
        "colab": {
          "base_uri": "https://localhost:8080/",
          "height": 446
        },
        "id": "bb4noKTzh7jO",
        "outputId": "daef7193-332f-46cd-ae9a-fb795dd0a7b7"
      },
      "source": [
        "#Show the valid and predicted prices\n",
        "valid"
      ],
      "execution_count": 26,
      "outputs": [
        {
          "output_type": "execute_result",
          "data": {
            "text/html": [
              "<div>\n",
              "<style scoped>\n",
              "    .dataframe tbody tr th:only-of-type {\n",
              "        vertical-align: middle;\n",
              "    }\n",
              "\n",
              "    .dataframe tbody tr th {\n",
              "        vertical-align: top;\n",
              "    }\n",
              "\n",
              "    .dataframe thead th {\n",
              "        text-align: right;\n",
              "    }\n",
              "</style>\n",
              "<table border=\"1\" class=\"dataframe\">\n",
              "  <thead>\n",
              "    <tr style=\"text-align: right;\">\n",
              "      <th></th>\n",
              "      <th>Close</th>\n",
              "      <th>Predictions</th>\n",
              "    </tr>\n",
              "    <tr>\n",
              "      <th>Date</th>\n",
              "      <th></th>\n",
              "      <th></th>\n",
              "    </tr>\n",
              "  </thead>\n",
              "  <tbody>\n",
              "    <tr>\n",
              "      <th>2019-10-17</th>\n",
              "      <td>7973.207520</td>\n",
              "      <td>8399.201172</td>\n",
              "    </tr>\n",
              "    <tr>\n",
              "      <th>2019-10-18</th>\n",
              "      <td>7988.560547</td>\n",
              "      <td>8314.239258</td>\n",
              "    </tr>\n",
              "    <tr>\n",
              "      <th>2019-10-19</th>\n",
              "      <td>8222.078125</td>\n",
              "      <td>8239.274414</td>\n",
              "    </tr>\n",
              "    <tr>\n",
              "      <th>2019-10-20</th>\n",
              "      <td>8243.720703</td>\n",
              "      <td>8219.722656</td>\n",
              "    </tr>\n",
              "    <tr>\n",
              "      <th>2019-10-21</th>\n",
              "      <td>8078.203125</td>\n",
              "      <td>8235.543945</td>\n",
              "    </tr>\n",
              "    <tr>\n",
              "      <th>...</th>\n",
              "      <td>...</td>\n",
              "      <td>...</td>\n",
              "    </tr>\n",
              "    <tr>\n",
              "      <th>2020-12-27</th>\n",
              "      <td>26272.294922</td>\n",
              "      <td>25468.546875</td>\n",
              "    </tr>\n",
              "    <tr>\n",
              "      <th>2020-12-28</th>\n",
              "      <td>27084.808594</td>\n",
              "      <td>26063.273438</td>\n",
              "    </tr>\n",
              "    <tr>\n",
              "      <th>2020-12-29</th>\n",
              "      <td>27362.437500</td>\n",
              "      <td>26741.439453</td>\n",
              "    </tr>\n",
              "    <tr>\n",
              "      <th>2020-12-30</th>\n",
              "      <td>28840.953125</td>\n",
              "      <td>27384.433594</td>\n",
              "    </tr>\n",
              "    <tr>\n",
              "      <th>2020-12-31</th>\n",
              "      <td>29001.720703</td>\n",
              "      <td>28192.166016</td>\n",
              "    </tr>\n",
              "  </tbody>\n",
              "</table>\n",
              "<p>437 rows × 2 columns</p>\n",
              "</div>"
            ],
            "text/plain": [
              "                   Close   Predictions\n",
              "Date                                  \n",
              "2019-10-17   7973.207520   8399.201172\n",
              "2019-10-18   7988.560547   8314.239258\n",
              "2019-10-19   8222.078125   8239.274414\n",
              "2019-10-20   8243.720703   8219.722656\n",
              "2019-10-21   8078.203125   8235.543945\n",
              "...                  ...           ...\n",
              "2020-12-27  26272.294922  25468.546875\n",
              "2020-12-28  27084.808594  26063.273438\n",
              "2020-12-29  27362.437500  26741.439453\n",
              "2020-12-30  28840.953125  27384.433594\n",
              "2020-12-31  29001.720703  28192.166016\n",
              "\n",
              "[437 rows x 2 columns]"
            ]
          },
          "metadata": {
            "tags": []
          },
          "execution_count": 26
        }
      ]
    },
    {
      "cell_type": "code",
      "metadata": {
        "colab": {
          "base_uri": "https://localhost:8080/"
        },
        "id": "-OxSKCr1nW7J",
        "outputId": "f3cbd464-7a53-42c1-d687-3e678a7b2b56"
      },
      "source": [
        "#get the quote\n",
        "btc_quote = web.DataReader('BTC-USD', data_source='yahoo',start='2015-01-01', end = '2021-06-24')\n",
        "#create a new dataframe\n",
        "new_df = btc_quote.filter(['Close'])\n",
        "#get the last 60 day closing price values and convert dataframe to an array\n",
        "last_60_days = new_df[-60:].values\n",
        "#scale the data to be values betwwen 0 and 1\n",
        "last_60_days_scaled = scaler.transform(last_60_days)\n",
        "#create an empty list\n",
        "x_test = []\n",
        "#append the past 60 days\n",
        "x_test.append(last_60_days_scaled)\n",
        "#convert the x_test data set to a numpy array\n",
        "x_test = np.array(x_test)\n",
        "\n",
        "x_test = np.reshape(x_test,(x_test.shape[0],x_test.shape[1],1))\n",
        "#get the predicted scaled price\n",
        "pred_price = model.predict(x_test)\n",
        "#undo the scaling\n",
        "pred_price = scaler.inverse_transform(pred_price)\n",
        "print(pred_price)\n"
      ],
      "execution_count": 36,
      "outputs": [
        {
          "output_type": "stream",
          "text": [
            "[[33036.867]]\n"
          ],
          "name": "stdout"
        }
      ]
    },
    {
      "cell_type": "code",
      "metadata": {
        "colab": {
          "base_uri": "https://localhost:8080/"
        },
        "id": "z98mHSeqpwjY",
        "outputId": "2b44bcec-8449-4e7a-b818-d9e660809142"
      },
      "source": [
        "#get the quote\n",
        "btc_quote2 = web.DataReader('BTC-USD', data_source='yahoo',start='2021-06-24', end = '2021-06-24')\n",
        "print(btc_quote2['Close'])"
      ],
      "execution_count": 35,
      "outputs": [
        {
          "output_type": "stream",
          "text": [
            "Date\n",
            "2021-06-25    34404.238281\n",
            "Name: Close, dtype: float64\n"
          ],
          "name": "stdout"
        }
      ]
    },
    {
      "cell_type": "code",
      "metadata": {
        "id": "JgsjdPp3t-65"
      },
      "source": [
        ""
      ],
      "execution_count": null,
      "outputs": []
    }
  ]
}