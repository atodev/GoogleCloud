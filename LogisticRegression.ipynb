{
  "nbformat": 4,
  "nbformat_minor": 0,
  "metadata": {
    "colab": {
      "name": "Untitled3.ipynb",
      "provenance": [],
      "authorship_tag": "ABX9TyNQw3lbJXddKa0actjAZdpL",
      "include_colab_link": true
    },
    "kernelspec": {
      "name": "python3",
      "display_name": "Python 3"
    },
    "language_info": {
      "name": "python"
    }
  },
  "cells": [
    {
      "cell_type": "markdown",
      "metadata": {
        "id": "view-in-github",
        "colab_type": "text"
      },
      "source": [
        "<a href=\"https://colab.research.google.com/github/atodev/GoogleCloud/blob/master/LogisticRegression.ipynb\" target=\"_parent\"><img src=\"https://colab.research.google.com/assets/colab-badge.svg\" alt=\"Open In Colab\"/></a>"
      ]
    },
    {
      "cell_type": "code",
      "metadata": {
        "id": "qKkKi8Lte3jY"
      },
      "source": [
        "#Description Logistic Regression study\n",
        "#Step1: Import the required modules\n",
        "#https://www.youtube.com/watch?v=HYcXgN9HaTM\n",
        "from sklearn.datasets import make_classification # a sample\n",
        "from matplotlib import pyplot as plt \n",
        "from sklearn.linear_model import LogisticRegression\n",
        "from sklearn.model_selection import train_test_split\n",
        "from sklearn.metrics import confusion_matrix\n",
        "import pandas as pd"
      ],
      "execution_count": 25,
      "outputs": []
    },
    {
      "cell_type": "code",
      "metadata": {
        "id": "CCU8jPnmfIvy"
      },
      "source": [
        "#Step2: Generate the dataset\n",
        "x,y = make_classification(\n",
        "n_samples=100,\n",
        "n_features=1,\n",
        "n_classes=2,\n",
        "n_clusters_per_class=1,\n",
        "flip_y=0.03,\n",
        "n_informative=1,\n",
        "n_redundant=0,\n",
        "n_repeated=0\n",
        ")\n",
        "#print(x)"
      ],
      "execution_count": 26,
      "outputs": []
    },
    {
      "cell_type": "code",
      "metadata": {
        "colab": {
          "base_uri": "https://localhost:8080/",
          "height": 281
        },
        "id": "c9DnS_tDfOii",
        "outputId": "2728f332-c6ed-44fa-f2cf-9faef20b6d96"
      },
      "source": [
        "#Step3: visualize the dataset\n",
        "#create a scatter plot\n",
        "plt.scatter(x,y,c=y, cmap='rainbow')\n",
        "plt.title('Scatter plot of logisic regression')\n",
        "plt.show()"
      ],
      "execution_count": 27,
      "outputs": [
        {
          "output_type": "display_data",
          "data": {
            "image/png": "[encoded data removed]",
            "text/plain": [
              "<Figure size 432x288 with 1 Axes>"
            ]
          },
          "metadata": {
            "tags": [],
            "needs_background": "light"
          }
        }
      ]
    },
    {
      "cell_type": "code",
      "metadata": {
        "id": "zDfFhav9fVCJ"
      },
      "source": [
        "#Step4: Split the dataset\n",
        "x_train, x_test, y_train, y_test = train_test_split(x,y, random_state=1)"
      ],
      "execution_count": 28,
      "outputs": []
    },
    {
      "cell_type": "code",
      "metadata": {
        "colab": {
          "base_uri": "https://localhost:8080/"
        },
        "id": "7_0IN93O7JcR",
        "outputId": "307d70b6-eb56-43be-cdcd-1b82a15798e4"
      },
      "source": [
        "x_train.shape"
      ],
      "execution_count": 29,
      "outputs": [
        {
          "output_type": "execute_result",
          "data": {
            "text/plain": [
              "(75, 1)"
            ]
          },
          "metadata": {
            "tags": []
          },
          "execution_count": 29
        }
      ]
    },
    {
      "cell_type": "code",
      "metadata": {
        "colab": {
          "base_uri": "https://localhost:8080/"
        },
        "id": "JDKLqzCYfbHZ",
        "outputId": "ad89ca98-f934-4048-fd08-b3779512ca8c"
      },
      "source": [
        "#Step5: Perform Logistic regression\n",
        "log_reg = LogisticRegression()\n",
        "log_reg.fit(x_train, y_train)"
      ],
      "execution_count": 30,
      "outputs": [
        {
          "output_type": "execute_result",
          "data": {
            "text/plain": [
              "LogisticRegression(C=1.0, class_weight=None, dual=False, fit_intercept=True,\n",
              "                   intercept_scaling=1, l1_ratio=None, max_iter=100,\n",
              "                   multi_class='auto', n_jobs=None, penalty='l2',\n",
              "                   random_state=None, solver='lbfgs', tol=0.0001, verbose=0,\n",
              "                   warm_start=False)"
            ]
          },
          "metadata": {
            "tags": []
          },
          "execution_count": 30
        }
      ]
    },
    {
      "cell_type": "code",
      "metadata": {
        "id": "kDTdwn70fl4h"
      },
      "source": [
        "#step6: Make prediction using the model\n",
        "#perform prediction using the test dataset\n",
        "y_pred = log_reg.predict(x_test)"
      ],
      "execution_count": 31,
      "outputs": []
    },
    {
      "cell_type": "code",
      "metadata": {
        "colab": {
          "base_uri": "https://localhost:8080/"
        },
        "id": "wWq4XsOQfsDZ",
        "outputId": "fe5d2ad9-66de-4853-fd94-7329084bf4a2"
      },
      "source": [
        "#Step7: Display the confusion matix\n",
        "confusion_matrix(y_test, y_pred)"
      ],
      "execution_count": 32,
      "outputs": [
        {
          "output_type": "execute_result",
          "data": {
            "text/plain": [
              "array([[13,  1],\n",
              "       [ 0, 11]])"
            ]
          },
          "metadata": {
            "tags": []
          },
          "execution_count": 32
        }
      ]
    },
    {
      "cell_type": "code",
      "metadata": {
        "id": "99GO2q6h88s0"
      },
      "source": [
        ""
      ],
      "execution_count": null,
      "outputs": []
    }
  ]
}